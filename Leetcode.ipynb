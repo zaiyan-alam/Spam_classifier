{
 "cells": [
  {
   "cell_type": "markdown",
   "metadata": {},
   "source": [
    "# &emsp;&emsp;&emsp;&emsp;&emsp;&emsp;&emsp;&emsp;&emsp;&emsp;&emsp;&emsp;&emsp;&emsp;&emsp;&emsp;&emsp;&emsp;ARRAYS "
   ]
  },
  {
   "cell_type": "markdown",
   "metadata": {},
   "source": [
    "#### LC 4. Median of two sorted arrays\n",
    "\n",
    "O(n+m)\n",
    "\n",
    "Given two sorted arrays nums1 and nums2 of size m and n respectively.\n",
    "\n",
    "Return the median of the two sorted arrays.\n",
    "\n",
    "Follow up: The overall run time complexity should be O(log (m+n)).\n",
    "\n",
    " \n",
    "\n",
    "Example 1:\n",
    "\n",
    "Input: nums1 = [1,3], nums2 = [2]\n",
    "Output: 2.00000\n",
    "Explanation: merged array = [1,2,3] and median is 2.\n",
    "Example 2:\n",
    "\n",
    "Input: nums1 = [1,2], nums2 = [3,4]\n",
    "Output: 2.50000\n",
    "Explanation: merged array = [1,2,3,4] and median is (2 + 3) / 2 = 2.5.\n",
    "Example 3:\n",
    "\n",
    "Input: nums1 = [0,0], nums2 = [0,0]\n",
    "Output: 0.00000\n",
    "Example 4:\n",
    "\n",
    "Input: nums1 = [], nums2 = [1]\n",
    "Output: 1.00000\n",
    "Example 5:\n",
    "\n",
    "Input: nums1 = [2], nums2 = []\n",
    "Output: 2.00000\n",
    " \n",
    "\n",
    "Constraints:\n",
    "\n",
    "nums1,length == m\n",
    "nums2,length == n\n",
    "0 <= m <= 1000\n",
    "0 <= n <= 1000\n",
    "1 <= m + n <= 2000"
   ]
  },
  {
   "cell_type": "code",
   "execution_count": 43,
   "metadata": {},
   "outputs": [
    {
     "name": "stdout",
     "output_type": "stream",
     "text": [
      "[1, 1, 3, 4, 5, 9]\n",
      "3.5\n"
     ]
    }
   ],
   "source": [
    "def median(a,b):\n",
    "    c = []\n",
    "    i = 0\n",
    "    j = 0\n",
    "    k = 0\n",
    "    for v in range(len(a)+len(b)):\n",
    "        c.append(0)\n",
    "    while (i<len(a)) and (j<len(b)):\n",
    "        if a[i] < b[j]:\n",
    "            c[k] = a[i]\n",
    "            k += 1\n",
    "            i += 1\n",
    "        else:\n",
    "            c[k] = b[j]\n",
    "            k += 1\n",
    "            j += 1\n",
    "    while i<len(a):\n",
    "        c[k] = a[i]\n",
    "        k += 1\n",
    "        i += 1\n",
    "    while j<len(b):\n",
    "        c[k] = b[j]\n",
    "        k += 1\n",
    "        j += 1\n",
    "    print(c)\n",
    "    if (len(c)%2) == 0:\n",
    "        val = int(len(c)/2)-1\n",
    "        an = (c[val]+c[val+1])/2\n",
    "        return(float(an))\n",
    "    else:\n",
    "        return(float(c[int(len(c)/2)]))\n",
    "\n",
    "print(median([1,1,5],[3,4,9]))"
   ]
  },
  {
   "cell_type": "markdown",
   "metadata": {},
   "source": [
    "####  LC 1. Two Sum\n",
    "\n",
    "O(n)\n",
    "\n",
    "Given an array of integers, return indices of the two numbers such that they add up to a specific target.\n",
    "\n",
    "You may assume that each input would have exactly one solution, and you may not use the same element twice.\n",
    "\n",
    "Example:\n",
    "\n",
    "Given nums = [2, 7, 11, 15], target = 9,\n",
    "\n",
    "Because nums[0] + nums[1] = 2 + 7 = 9,\n",
    "\n",
    "return [0, 1]."
   ]
  },
  {
   "cell_type": "code",
   "execution_count": 48,
   "metadata": {},
   "outputs": [
    {
     "name": "stdout",
     "output_type": "stream",
     "text": [
      "(1, 5)\n",
      "(1, 2)\n"
     ]
    }
   ],
   "source": [
    "def two_sum(nums, target):\n",
    "    dictt={}\n",
    "    for i,val in enumerate(nums):\n",
    "        if target-val not in dictt:\n",
    "            dictt[val] = i\n",
    "        else:\n",
    "            return(dictt[target-val],i)\n",
    "\n",
    "print(two_sum([1, 21, 3, 14, 5, 60, 7, 6],81))\n",
    "print(two_sum([3,2,4],6))"
   ]
  },
  {
   "cell_type": "markdown",
   "metadata": {},
   "source": [
    "#### LC 238. Product of Array except self\n",
    "\n",
    "O(n)\n",
    "\n",
    "Given an array nums of n integers where n > 1,  return an array output such that output[i] is equal to the product of all the elements of nums except nums[i].\n",
    "\n",
    "Example:\n",
    "\n",
    "Input:  [1,2,3,4]\n",
    "Output: [24,12,8,6]\n",
    "Constraint: It's guaranteed that the product of the elements of any prefix or suffix of the array (including the whole array) fits in a 32 bit integer.\n",
    "\n",
    "Note: Please solve it without division and in O(n).\n",
    "\n",
    "Follow up:\n",
    "Could you solve it with constant space complexity? (The output array does not count as extra space for the purpose of space complexity analysis.)\n"
   ]
  },
  {
   "cell_type": "code",
   "execution_count": 57,
   "metadata": {},
   "outputs": [
    {
     "name": "stdout",
     "output_type": "stream",
     "text": [
      "[0, 0]\n",
      "[0, 0, 0, 9]\n",
      "[-20, -10, 20, -2]\n",
      "[18, 9, -18, -2]\n"
     ]
    }
   ],
   "source": [
    "def findProduct(arr):\n",
    "    temp = []\n",
    "    prod = 1\n",
    "    zero = arr.count(0)\n",
    "    for val in arr:\n",
    "        if val != 0:\n",
    "            prod *= val\n",
    "    if zero > 1:\n",
    "        return [0 for i in range(len(arr))]\n",
    "    elif zero == 1:\n",
    "        for val in arr:\n",
    "            if val != 0:\n",
    "                temp.append(0)\n",
    "            else:\n",
    "                temp.append(int(prod))\n",
    "    else:\n",
    "        for val in arr:\n",
    "            temp.append(int(prod/val))\n",
    "    return temp\n",
    "print(findProduct([0,0]))\n",
    "print(findProduct([1,3,3,0]))\n",
    "print(findProduct([1,2,-1,10]))\n",
    "print(findProduct([1,2,-1,-9]))"
   ]
  },
  {
   "cell_type": "markdown",
   "metadata": {},
   "source": [
    "#### LC 189. Rotate Array\n",
    "\n",
    "Given an array, rotate the array to the right by k steps, where k is non-negative.\n",
    "\n",
    "Follow up:\n",
    "\n",
    "Try to come up as many solutions as you can, there are at least 3 different ways to solve this problem.\n",
    "Could you do it in-place with O(1) extra space?\n",
    " \n",
    "\n",
    "Example 1:\n",
    "\n",
    "Input: nums = [1,2,3,4,5,6,7], k = 3\n",
    "Output: [5,6,7,1,2,3,4]\n",
    "Explanation:\n",
    "rotate 1 steps to the right: [7,1,2,3,4,5,6]\n",
    "rotate 2 steps to the right: [6,7,1,2,3,4,5]\n",
    "rotate 3 steps to the right: [5,6,7,1,2,3,4]\n",
    "Example 2:\n",
    "\n",
    "Input: nums = [-1,-100,3,99], k = 2\n",
    "Output: [3,99,-1,-100]\n",
    "Explanation: \n",
    "rotate 1 steps to the right: [99,-1,-100,3]\n",
    "rotate 2 steps to the right: [3,99,-1,-100]\n"
   ]
  },
  {
   "cell_type": "code",
   "execution_count": 88,
   "metadata": {},
   "outputs": [],
   "source": [
    "def rightRotate(lst,n):\n",
    "    i = n-2\n",
    "    k = len(lst)-1\n",
    "    while i > -1:\n",
    "        temp = lst[i]\n",
    "        lst[i] = lst[k]\n",
    "        lst[k] = temp\n",
    "        i -= 1\n",
    "        k -= 1    \n",
    "    print(lst)"
   ]
  },
  {
   "cell_type": "code",
   "execution_count": 90,
   "metadata": {},
   "outputs": [
    {
     "name": "stdout",
     "output_type": "stream",
     "text": [
      "[4, 5, 3, 1, 2]\n",
      "[5, 2, 3, 4, 1]\n",
      "[4, 2, 3, 1]\n"
     ]
    }
   ],
   "source": [
    "rightRotate([1,2,3,4,5],3)\n",
    "rightRotate([1,2,3,4,5],2)\n",
    "rightRotate([1,2,3,4],2)"
   ]
  },
  {
   "cell_type": "markdown",
   "metadata": {},
   "source": [
    "#### Merge two sorted arrays\n",
    "O(n)\n",
    "\n",
    "Sample Input #\n",
    "list1 = [1,3,4,5]  \n",
    "list2 = [2,6,7,8]\n",
    "Sample Output #\n",
    "arr = [1,2,3,4,5,6,7,8]"
   ]
  },
  {
   "cell_type": "code",
   "execution_count": 75,
   "metadata": {},
   "outputs": [
    {
     "data": {
      "text/plain": [
       "[-2000, -133, -100, 0, 4, 2000]"
      ]
     },
     "execution_count": 75,
     "metadata": {},
     "output_type": "execute_result"
    }
   ],
   "source": [
    "def merge_lists(lst1, lst2):\n",
    "    # Write your code here\n",
    "    temp = []\n",
    "    i=0\n",
    "    k=0\n",
    "    if lst1 == []:\n",
    "        return lst2\n",
    "    if lst2 == []:\n",
    "        return lst1 \n",
    "    while (i < len(lst1)) and (k <len(lst2)):\n",
    "        if lst1[i] < lst2[k]:\n",
    "            \n",
    "            print(i,k)\n",
    "            temp.append(lst1[i])\n",
    "            i+=1\n",
    "        else:\n",
    "            temp.append(lst2[k])\n",
    "            k+=1\n",
    "        if (i == len(lst1)-1 or k == len(lst2)-1) : break\n",
    "    if i!= len(lst1):\n",
    "        while i < len(lst1):\n",
    "            temp.append(lst1[i])\n",
    "            i+=1\n",
    "    if k!= len(lst2):\n",
    "        while k < len(lst2):\n",
    "            temp.append(lst2[k])\n",
    "            k+=1\n",
    "    return temp\n",
    "merge_lists([-133, -100, 0, 4],[-2000, 2000])"
   ]
  },
  {
   "cell_type": "markdown",
   "metadata": {},
   "source": [
    "#### FInd second maximum value in a list\n",
    "O(n)"
   ]
  },
  {
   "cell_type": "code",
   "execution_count": 85,
   "metadata": {},
   "outputs": [
    {
     "data": {
      "text/plain": [
       "44"
      ]
     },
     "execution_count": 85,
     "metadata": {},
     "output_type": "execute_result"
    }
   ],
   "source": [
    "def find_second_maximum(lst):\n",
    "    max1 = lst[0]\n",
    "    max2 = lst[1]\n",
    "    for i in lst :\n",
    "        if i > max1:\n",
    "            max1 = i\n",
    "    diff = max1\n",
    "    for i in lst:\n",
    "        if i != max1:\n",
    "            if (max1-i)<diff:\n",
    "                diff = max1-i\n",
    "                max2 = i\n",
    "    return max2\n",
    "find_second_maximum([7,11,99,44])"
   ]
  },
  {
   "cell_type": "markdown",
   "metadata": {},
   "source": [
    "#### Rearrange positive and negative numbers (IN-PLACE)\n",
    "O(n), space = O(1)"
   ]
  },
  {
   "cell_type": "code",
   "execution_count": 89,
   "metadata": {},
   "outputs": [
    {
     "data": {
      "text/plain": [
       "[-1, -3, -4, 2, 5]"
      ]
     },
     "execution_count": 89,
     "metadata": {},
     "output_type": "execute_result"
    }
   ],
   "source": [
    "def rearrange(lst):\n",
    "    # Write your code here\n",
    "    k=0\n",
    "    size = len(lst)\n",
    "    for i in range(size):\n",
    "        if lst[i] < 0:\n",
    "            lst[i],lst[k] = lst[k],lst[i]\n",
    "            k+=1\n",
    "    return lst\n",
    "rearrange([-1, 2, -3, -4, 5])"
   ]
  },
  {
   "cell_type": "markdown",
   "metadata": {},
   "source": [
    "#### Arrange in min/max form\n",
    "O(n)\n",
    "\n",
    "Implement a function called maxMin(lst) which will re-arrange the elements of a sorted list such that the 0th index will have the largest number, the 1st index will have the smallest, and the third index will have second-largest, and so on. In other words, all the odd-numbered indices will have the largest numbers in the list in descending order and the even-numbered indices will have the smallest numbers in ascending order."
   ]
  },
  {
   "cell_type": "code",
   "execution_count": 102,
   "metadata": {},
   "outputs": [
    {
     "data": {
      "text/plain": [
       "[7, 1, 6, 2, 5, 3, 4]"
      ]
     },
     "execution_count": 102,
     "metadata": {},
     "output_type": "execute_result"
    }
   ],
   "source": [
    "lst = [1,2,3,4,5,6,7]\n",
    "temp = []\n",
    "start = 0\n",
    "end = len(lst)-1\n",
    "while start<end:\n",
    "    temp.append(lst[end])\n",
    "    end-=1\n",
    "    temp.append(lst[start])\n",
    "    start+=1\n",
    "    if end == start: temp.append(lst[start])\n",
    "temp"
   ]
  },
  {
   "cell_type": "code",
   "execution_count": 2,
   "metadata": {},
   "outputs": [
    {
     "name": "stdout",
     "output_type": "stream",
     "text": [
      "[1]\n",
      "[1, 2]\n",
      "[1, 2, 3]\n"
     ]
    }
   ],
   "source": [
    "def f(i, values = []):\n",
    "    values.append(i)\n",
    "    print (values)\n",
    "f(1)\n",
    "f(2)\n",
    "f(3)"
   ]
  },
  {
   "cell_type": "markdown",
   "metadata": {},
   "source": [
    "#### LC 59. Spiral Matrix II\n",
    "Given a positive integer n, generate a square matrix filled with elements from 1 to n2 in spiral order.\n",
    "\n",
    "Example:\n",
    "\n",
    "Input: 3\n",
    "Output:\n",
    "[\n",
    " [ 1, 2, 3 ],\n",
    " [ 8, 9, 4 ],\n",
    " [ 7, 6, 5 ]\n",
    "]"
   ]
  },
  {
   "cell_type": "code",
   "execution_count": null,
   "metadata": {},
   "outputs": [],
   "source": [
    "def generate(n):\n",
    "    a = []\n",
    "    temp = []\n",
    "    while i in range(n):\n",
    "        "
   ]
  },
  {
   "cell_type": "markdown",
   "metadata": {},
   "source": [
    "\n"
   ]
  },
  {
   "cell_type": "markdown",
   "metadata": {},
   "source": [
    "\n"
   ]
  },
  {
   "cell_type": "markdown",
   "metadata": {},
   "source": [
    "# &emsp;&emsp;&emsp;&emsp;&emsp;&emsp;&emsp;&emsp;&emsp;&emsp;&emsp;&emsp;&emsp;&emsp;&emsp;&emsp;&emsp;LINKED LISTS "
   ]
  },
  {
   "cell_type": "markdown",
   "metadata": {},
   "source": [
    "#### SImple operations\n"
   ]
  },
  {
   "cell_type": "code",
   "execution_count": 3,
   "metadata": {},
   "outputs": [],
   "source": [
    "class Node:\n",
    "    def __init__(self,data):\n",
    "        self.data = data\n",
    "        self.next_element = None"
   ]
  },
  {
   "cell_type": "code",
   "execution_count": 4,
   "metadata": {},
   "outputs": [],
   "source": [
    "class LinkedList:\n",
    "    def __init__(self):\n",
    "        self.head_node = None\n",
    "    \n",
    "    def get_head(self):\n",
    "        return self.head_node\n",
    "    \n",
    "    def is_empty(self):\n",
    "        if self.head_node is None:\n",
    "            return True\n",
    "        else:\n",
    "            return False\n",
    "        \n",
    "    def insert_at_head(self,data):\n",
    "        new_node = Node(data)\n",
    "        new_node.next_element = self.head_node\n",
    "        self.head_node = new_node\n",
    "    \n",
    "    def print_list(self):\n",
    "        if self.is_empty() : \n",
    "            print(\"List is empty!\")\n",
    "        else:\n",
    "            temp = self.head_node\n",
    "            while temp.next_element is not None:\n",
    "                if (temp.data is None): \n",
    "                    break\n",
    "                print(temp.data,end=\" --> \")\n",
    "                temp = temp.next_element\n",
    "            print(temp.data)\n",
    "            print(\"\")\n"
   ]
  },
  {
   "cell_type": "code",
   "execution_count": 5,
   "metadata": {},
   "outputs": [
    {
     "name": "stdout",
     "output_type": "stream",
     "text": [
      "True\n",
      "List is empty!\n"
     ]
    }
   ],
   "source": [
    "lst1 = LinkedList()\n",
    "print(lst1.is_empty())\n",
    "lst1.print_list()"
   ]
  },
  {
   "cell_type": "code",
   "execution_count": 6,
   "metadata": {},
   "outputs": [
    {
     "name": "stdout",
     "output_type": "stream",
     "text": [
      "10 --> 9 --> 8 --> 7 --> 6 --> 5 --> 4 --> 3 --> 2 --> 1\n",
      "\n"
     ]
    }
   ],
   "source": [
    "for i in range(10):\n",
    "    lst1.insert_at_head(i+1)\n",
    "lst1.print_list()"
   ]
  },
  {
   "cell_type": "markdown",
   "metadata": {},
   "source": [
    "#### Insertion on tail"
   ]
  },
  {
   "cell_type": "code",
   "execution_count": 7,
   "metadata": {},
   "outputs": [
    {
     "name": "stdout",
     "output_type": "stream",
     "text": [
      "10 --> 9 --> 8 --> 7 --> 6 --> 5 --> 4 --> 3 --> 2 --> 1 --> 999\n",
      "\n"
     ]
    }
   ],
   "source": [
    "def insert_at_tail(lst,value):            \n",
    "        new_node = Node(value)\n",
    "        if lst.is_empty():\n",
    "            lst.head_node = new_node              #adding new node to empty list\n",
    "        temp = lst.get_head()                     #initialization\n",
    "        while temp.next_element is not None:      #traversal\n",
    "            temp = temp.next_element              #increment\n",
    "        new_node.next_element = None\n",
    "        temp.next_element = new_node\n",
    "        \n",
    "insert_at_tail(lst1,999)\n",
    "lst1.print_list()"
   ]
  },
  {
   "cell_type": "markdown",
   "metadata": {},
   "source": [
    "#### Searching in Linked List"
   ]
  },
  {
   "cell_type": "code",
   "execution_count": 8,
   "metadata": {},
   "outputs": [
    {
     "name": "stdout",
     "output_type": "stream",
     "text": [
      "True\n",
      "False\n"
     ]
    }
   ],
   "source": [
    "def search(lst,value):\n",
    "    temp = lst.get_head()\n",
    "    while temp.next_element is not None:\n",
    "        if temp.data == value:\n",
    "            return True\n",
    "        temp = temp.next_element\n",
    "    if temp.next_element is None:\n",
    "        return False\n",
    "\n",
    "print(search(lst1,6))\n",
    "print(search(lst1,80))"
   ]
  },
  {
   "cell_type": "markdown",
   "metadata": {},
   "source": [
    "#### Deletion in Linked List"
   ]
  },
  {
   "cell_type": "code",
   "execution_count": 9,
   "metadata": {},
   "outputs": [
    {
     "name": "stdout",
     "output_type": "stream",
     "text": [
      "9 --> 8 --> 7 --> 6 --> 5 --> 4 --> 3 --> 2 --> 1 --> 999\n",
      "\n"
     ]
    }
   ],
   "source": [
    "def delete_head(lst):           #Deleting Head Node\n",
    "    temp = lst.get_head()       # Head node\n",
    "    second = temp.next_element\n",
    "    lst.head_node = second\n",
    "\n",
    "delete_head(lst1)\n",
    "lst1.print_list()"
   ]
  },
  {
   "cell_type": "code",
   "execution_count": 10,
   "metadata": {},
   "outputs": [
    {
     "name": "stdout",
     "output_type": "stream",
     "text": [
      "9 --> 8 --> 7 --> 6 --> 5 --> 4 --> 3 --> 2 --> 1 --> None\n",
      "\n"
     ]
    }
   ],
   "source": [
    "def delete_tail(lst):           #Deleting last node\n",
    "    temp = lst.get_head()\n",
    "    while temp.next_element is not None:\n",
    "        temp = temp.next_element\n",
    "    temp.data = None            #deleting last node and replacing with None\n",
    "\n",
    "delete_tail(lst1)\n",
    "lst1.print_list()"
   ]
  },
  {
   "cell_type": "code",
   "execution_count": 11,
   "metadata": {},
   "outputs": [
    {
     "name": "stdout",
     "output_type": "stream",
     "text": [
      "9 --> 8 --> 7 --> 6 --> 4 --> 3 --> 2 --> 1 --> None\n",
      "\n",
      "8 --> 7 --> 6 --> 4 --> 3 --> 2 --> 1 --> None\n",
      "\n",
      "8 --> 7 --> 6 --> 4 --> 3 --> 1 --> None\n",
      "\n"
     ]
    }
   ],
   "source": [
    " def delete_value(lst,value):           #Deleting node by value\n",
    "    temp = lst.get_head()              #1st pointer\n",
    "    temp2 = temp.next_element          #2nd pointer\n",
    "    if temp.data == value:             # In case the 1st node itself is the value\n",
    "        lst.head_node = temp2\n",
    "    while temp2.next_element is not None:\n",
    "        if temp2.data == value:\n",
    "            temp.next_element = temp2.next_element\n",
    "            break\n",
    "        temp2 = temp2.next_element     #increment\n",
    "        temp = temp.next_element       #increment\n",
    "\n",
    "delete_value(lst1,5)\n",
    "lst1.print_list()\n",
    "delete_value(lst1,9)\n",
    "lst1.print_list()\n",
    "delete_value(lst1,2)\n",
    "lst1.print_list()"
   ]
  },
  {
   "cell_type": "code",
   "execution_count": null,
   "metadata": {},
   "outputs": [],
   "source": []
  }
 ],
 "metadata": {
  "kernelspec": {
   "display_name": "Python 3",
   "language": "python",
   "name": "python3"
  },
  "language_info": {
   "codemirror_mode": {
    "name": "ipython",
    "version": 3
   },
   "file_extension": ".py",
   "mimetype": "text/x-python",
   "name": "python",
   "nbconvert_exporter": "python",
   "pygments_lexer": "ipython3",
   "version": "3.8.5"
  }
 },
 "nbformat": 4,
 "nbformat_minor": 2
}
