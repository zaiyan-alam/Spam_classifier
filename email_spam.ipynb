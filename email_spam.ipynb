{
 "cells": [
  {
   "cell_type": "markdown",
   "metadata": {},
   "source": [
    "# Naive Bayes Spam Classifier\n"
   ]
  },
  {
   "cell_type": "code",
   "execution_count": 53,
   "metadata": {},
   "outputs": [],
   "source": [
    "# getting all the pre-requisite dependencies\n",
    "import pandas as pd\n",
    "import numpy as np\n",
    "from sklearn.naive_bayes import MultinomialNB\n",
    "# StratifiedFold is preferred for more uniform splitting\n",
    "from sklearn.model_selection import train_test_split, StratifiedKFold  \n",
    "from sklearn.metrics import confusion_matrix                          \n",
    "import matplotlib.pyplot as plt"
   ]
  },
  {
   "cell_type": "markdown",
   "metadata": {},
   "source": [
    "### Preparing the data\n",
    "The downloaded Spambase dataset (http://archive.ics.uci.edu/ml/datasets/Spambase) consists of 4,601 e-mails, of which `1,813 are spam` (39.4%). The data set archive contains a processed version of the e-mails wherein `57 real-valued features` have been extracted and the spam/non-spam label has been assigned.\n",
    "![one](images/one.png)\n",
    "![two](images/two.png)"
   ]
  },
  {
   "cell_type": "code",
   "execution_count": 54,
   "metadata": {},
   "outputs": [],
   "source": [
    "# fetching the data and generating the features set(x), target set(y)\n",
    "data = pd.read_csv('spambase.data').values\n",
    "x = data[:,:48]   # considering only WORD_frequency attribute (can use all of 57 features too)\n",
    "y = data[:,-1]    # the last column signifies spam(1) or not spam(0)"
   ]
  },
  {
   "cell_type": "markdown",
   "metadata": {},
   "source": [
    "### Parameters regarding model tuning\n",
    "Given different sets of parameters pertaining to a machine learning model and/or data preprocessing algorithms, or even two or more different models, the goal of model tuning and/or model selection is to pick a set of parameters of a classifier so that the best averaged performance is achieved. With these concepts in mind, we tweak our naive Bayes classifier incorporating with cross-validation.\n",
    "> We choose to explore the following values for the parameter tuning:\n",
    "- __*alpha*__ : smoothing factor, the initial count for a term\n",
    "- __*fit_prior*__ : whether or not to use a prior tailored to the training data\n"
   ]
  },
  {
   "cell_type": "code",
   "execution_count": 55,
   "metadata": {},
   "outputs": [],
   "source": [
    "smoothing_factors = [0.5, 1.0, 1.5, 2.0]\n",
    "fit_prior = [True, False]\n",
    "# initialing parameters so as to retrieve the final dataframe with minimum error\n",
    "df_final = None   \n",
    "mean_final = None\n",
    "err_final = 1\n",
    "alpha_final = None\n",
    "prior_final = None"
   ]
  },
  {
   "cell_type": "markdown",
   "metadata": {},
   "source": [
    "### Building the classification model\n",
    "The classification model built upon scikit-learn's `MultinomialNB` classifer. We initialize a model with smoothing factor (specified as `alpha` in scikit-learn) and prior learned from the training set (specified as `fit_prior` in scikit-learn). We simply cannot adopt the classification results from one fixed testing set, therefore, we usually apply the __*k-fold cross-validation*__ technique to assess how a model will generally perform in practice. Statistically, the averaged performance over __*k*__-fold cross-validation is an accurate estimate of how a model performs in general. Given different sets of parameters pertaining to a machine learning model and/or data preprocessing algorithms, or even two or more different models, the goal of model tuning and/or model selection is to pick a set of parameters of a classifier so that the best averaged performance is achieved."
   ]
  },
  {
   "cell_type": "code",
   "execution_count": 56,
   "metadata": {},
   "outputs": [],
   "source": [
    "# function regarding classification model, returns error & confusion matrix \n",
    "# pertinent to a perticular fold\n",
    "def model_train(model,X_train, X_test, Y_train, Y_test):\n",
    "    model.fit(X_train,Y_train)                           # training the classifier\n",
    "    y_pred_class = model.predict(X_test)\n",
    "    cfn_mtrx = confusion_matrix(Y_test, y_pred_class)\n",
    "# calculating the error after testing the classifier\n",
    "    error = 1 - model.score(X_test,Y_test)  \n",
    "    return error,cfn_mtrx"
   ]
  },
  {
   "cell_type": "code",
   "execution_count": 57,
   "metadata": {},
   "outputs": [
    {
     "name": "stdout",
     "output_type": "stream",
     "text": [
      "Alpha  Fit_prior  Avg. Error\n",
      " 0.5     True       14.12%\n",
      " 0.5     False       14.86%\n",
      " 1.0     True       14.18%\n",
      " 1.0     False       14.88%\n",
      " 1.5     True       14.25%\n",
      " 1.5     False       14.97%\n",
      " 2.0     True       14.27%\n",
      " 2.0     False       15.03%\n",
      "\n",
      "Retrieved parameters for min. error of 14.12% ::: Alpha = 0.5 , Fit_prior = True\n"
     ]
    }
   ],
   "source": [
    "# performing k-fold cross validation for each set of parameters(alpha, fit_prior)\n",
    "print('Alpha  Fit_prior  Avg. Error')\n",
    "for i in smoothing_factors:\n",
    "    for j in fit_prior:\n",
    "        values = []\n",
    "        model = MultinomialNB(alpha=i, fit_prior=j)\n",
    "        folds = StratifiedKFold(n_splits = 10)                 # initializing a 10-fold generator\n",
    "        for train_index,test_index in folds.split(x,y):\n",
    "            X_train, X_test = x[train_index], x[test_index]\n",
    "            Y_train, Y_test = y[train_index], y[test_index]\n",
    "            error, cfn_mtrx = model_train(model,X_train, X_test, Y_train, Y_test)\n",
    "            values.append([error,cfn_mtrx[0][1],cfn_mtrx[1][1]])\n",
    "        df = pd.DataFrame(values, columns = ['Error','FP','FN'])\n",
    "        mean = df.mean(axis = 0)\n",
    "        print(' {}     {}       {:.2f}%'.format(i,j,mean[0]*100))\n",
    "# retrieving the set of parameters that give minimum error\n",
    "        if mean[0] < err_final:        \n",
    "            err_final = mean[0]\n",
    "            df_final = df\n",
    "            mean_final = mean\n",
    "            alpha_final = i\n",
    "            prior_final = j\n",
    "print('\\nRetrieved parameters for min. error of {:.2f}% ::: Alpha = {} , Fit_prior = {}'.format(err_final*100,alpha_final,prior_final))"
   ]
  },
  {
   "cell_type": "markdown",
   "metadata": {},
   "source": [
    "### Evaluating the results\n",
    "In the following table, one row per fold shows corresponding false positive, false negative, and overall error rates, and add one final row corresponding to the average error rates across all folds. \n",
    "> For this problem: \n",
    "- __FP__ - *false positive* is the fraction of non-spam testing examples that are misclassified as spam(1) \n",
    "- __FN__ -  *false negative* is the fraction of spam testing examples that are misclassified as non-spam(0)"
   ]
  },
  {
   "cell_type": "code",
   "execution_count": 58,
   "metadata": {},
   "outputs": [
    {
     "name": "stdout",
     "output_type": "stream",
     "text": [
      "      Error   FP   FN\n",
      "0  0.093275   32  171\n",
      "1  0.080260   29  174\n",
      "2  0.097826   35  171\n",
      "3  0.084783   37  179\n",
      "4  0.154348   60  170\n",
      "5  0.095652   40  177\n",
      "6  0.056522   20  175\n",
      "7  0.104348   35  168\n",
      "8  0.359477  153  169\n",
      "9  0.285403  104  154\n",
      "\n",
      "Avg. Error rate across all folds = 14.12%\n"
     ]
    }
   ],
   "source": [
    "# dataframe containing 10 generated folds regarding aforementioned minimum error\n",
    "print(df_final)         \n",
    "print('\\nAvg. Error rate across all folds = {:.2f}%'.format(mean_final[0]*100))"
   ]
  },
  {
   "cell_type": "code",
   "execution_count": 59,
   "metadata": {},
   "outputs": [
    {
     "data": {
      "image/png": "[encoded data removed]",
      "text/plain": [
       "<Figure size 432x288 with 1 Axes>"
      ]
     },
     "metadata": {
      "needs_background": "light"
     },
     "output_type": "display_data"
    }
   ],
   "source": [
    "# plotting Classification error per fold\n",
    "x_pos = list(range(1,11))\n",
    "y_pos = list(df_final['Error'])\n",
    "index = np.arange(len(x_pos))\n",
    "plt.bar(index, y_pos)\n",
    "plt.xlabel('Value of Fold')\n",
    "plt.ylabel('Classification Error')\n",
    "plt.xticks(index, x_pos)\n",
    "plt.title('Classification Error per Fold')\n",
    "plt.show()"
   ]
  },
  {
   "cell_type": "markdown",
   "metadata": {},
   "source": [
    "### Conclusion\n",
    "From the above, we can observe the performance of a simple Naive Bayes classification model with an __accuracy of 86%.__ Moreover, in order to increase this accuracy we can select other classification algorithms (like Random Forest, Decision Trees etc.) or deal with selection of features giving optimum results. However, considering the simplicity and in order to avoid fitting problems Naive Bayes works nicely."
   ]
  }
 ],
 "metadata": {
  "kernelspec": {
   "display_name": "Python 3",
   "language": "python",
   "name": "python3"
  },
  "language_info": {
   "codemirror_mode": {
    "name": "ipython",
    "version": 3
   },
   "file_extension": ".py",
   "mimetype": "text/x-python",
   "name": "python",
   "nbconvert_exporter": "python",
   "pygments_lexer": "ipython3",
   "version": "3.7.1"
  }
 },
 "nbformat": 4,
 "nbformat_minor": 2
}
